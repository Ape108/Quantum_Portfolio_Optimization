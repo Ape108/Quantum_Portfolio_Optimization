{
  "nbformat": 4,
  "nbformat_minor": 0,
  "metadata": {
    "colab": {
      "provenance": [],
      "authorship_tag": "ABX9TyOQL8CK4t0dV3UNUj6GQVnm",
      "include_colab_link": true
    },
    "kernelspec": {
      "name": "python3",
      "display_name": "Python 3"
    },
    "language_info": {
      "name": "python"
    }
  },
  "cells": [
    {
      "cell_type": "markdown",
      "metadata": {
        "id": "view-in-github",
        "colab_type": "text"
      },
      "source": [
        "<a href=\"https://colab.research.google.com/github/Ape108/Quantum_Portfolio_Optimization/blob/main/general_qubo.ipynb\" target=\"_parent\"><img src=\"https://colab.research.google.com/assets/colab-badge.svg\" alt=\"Open In Colab\"/></a>"
      ]
    },
    {
      "cell_type": "markdown",
      "source": [
        "# QUBO - Quadratic Unconstrained Binary Optimization\n"
      ],
      "metadata": {
        "id": "VWZZmc-pZ-hL"
      }
    },
    {
      "cell_type": "markdown",
      "source": [
        "*Example Values*"
      ],
      "metadata": {
        "id": "_ksQhArKwi2r"
      }
    },
    {
      "cell_type": "code",
      "source": [
        "import numpy as np\n",
        "\n",
        "size = 5\n",
        "features = np.array([1,0,0,1,1]) # x^T vector\n",
        "weights = np.triu(np.array([ # Upper Triangular Matrix Q\n",
        "    [ 0.5, -1.0,  0.2, -0.8,  1.5],\n",
        "    [-1.0,  0.3, -0.5,  1.0, -0.2],\n",
        "    [ 0.2, -0.5, -0.1,  0.6, -1.1],\n",
        "    [-0.8,  1.0,  0.6,  0.9,  0.4],\n",
        "    [ 1.5, -0.2, -1.1,  0.4, -0.7]\n",
        "    ]))\n"
      ],
      "metadata": {
        "id": "hXrx-SW3wWw8"
      },
      "execution_count": null,
      "outputs": []
    },
    {
      "cell_type": "markdown",
      "source": [
        "### Summation Form (General)<br>\n",
        "## $E(\\mathbf{x}) = \\sum_{i=1}^{n} Q_{ii}x_i + \\sum_{i=1}^{n-1}\\sum_{j=i+1}^{n} Q_{ij}x_i x_j$\n"
      ],
      "metadata": {
        "id": "YiXqQ5FvW9_s"
      }
    },
    {
      "cell_type": "code",
      "source": [
        "def get_cost_summation_form(weights, features, size):\n",
        "  # Summation Form\n",
        "  linear_sum = 0\n",
        "  for i in range(size):\n",
        "    Q_ii = weights[i][i]\n",
        "    x_i = features[i]\n",
        "    linear_sum += (Q_ii * x_i)\n",
        "\n",
        "  quadratic_sum = 0\n",
        "  for j in range(size):\n",
        "    for i in range(j):\n",
        "      Q_ij = weights[i][j]\n",
        "      x_i = features[i]\n",
        "      x_j = features[j]\n",
        "      quadratic_sum += (Q_ij * x_i * x_j)\n",
        "\n",
        "  energy_cost = linear_sum + quadratic_sum\n",
        "\n",
        "  print(\"linear_sum + quadratic_sum = energy_cost\")\n",
        "  print(f\"{linear_sum} + {quadratic_sum} = {energy_cost:.2f}\")\n",
        "\n",
        "get_cost_summation_form(weights, features, size)"
      ],
      "metadata": {
        "colab": {
          "base_uri": "https://localhost:8080/"
        },
        "id": "seCkcm4bTtPw",
        "outputId": "a642c640-25d5-456e-ea37-cef6f11aafe0"
      },
      "execution_count": null,
      "outputs": [
        {
          "output_type": "stream",
          "name": "stdout",
          "text": [
            "linear_sum + quadratic_sum = energy_cost\n",
            "0.7 + 1.1 = 1.80\n"
          ]
        }
      ]
    },
    {
      "cell_type": "markdown",
      "source": [
        "### Matrix Form (General)<br>\n",
        "## $E(\\mathbf{x}) = \\mathbf{x}^\\top Q \\mathbf{x}$\n"
      ],
      "metadata": {
        "id": "BTkisXqrcqKd"
      }
    },
    {
      "cell_type": "code",
      "source": [
        "def get_cost_matrix_form(weights, features):\n",
        "  x_T = features\n",
        "  Q = weights\n",
        "  x = features.T\n",
        "\n",
        "  energy_cost = x_T @ Q @ x\n",
        "\n",
        "  print(\"x_T @ Q @ x = energy_cost\")\n",
        "  print(f\"{x_T} @ \\n{Q} @ \\n{x}^T \\n= {energy_cost:.2f}\")\n",
        "\n",
        "get_cost_matrix_form(weights, features)\n"
      ],
      "metadata": {
        "colab": {
          "base_uri": "https://localhost:8080/"
        },
        "id": "ZE0Xz_ElctBq",
        "outputId": "159a1b4e-e75f-41de-f6bc-efb8b49ff83c"
      },
      "execution_count": null,
      "outputs": [
        {
          "output_type": "stream",
          "name": "stdout",
          "text": [
            "x_T @ Q @ x = energy_cost\n",
            "[1 0 0 1 1] @ \n",
            "[[ 0.5 -1.   0.2 -0.8  1.5]\n",
            " [ 0.   0.3 -0.5  1.  -0.2]\n",
            " [ 0.   0.  -0.1  0.6 -1.1]\n",
            " [ 0.   0.   0.   0.9  0.4]\n",
            " [ 0.   0.   0.   0.  -0.7]] @ \n",
            "[1 0 0 1 1]^T \n",
            "= 1.80\n"
          ]
        }
      ]
    },
    {
      "cell_type": "code",
      "source": [],
      "metadata": {
        "id": "rFJJNACSRzxQ"
      },
      "execution_count": null,
      "outputs": []
    }
  ]
}