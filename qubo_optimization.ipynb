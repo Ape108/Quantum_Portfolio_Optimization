{
  "nbformat": 4,
  "nbformat_minor": 0,
  "metadata": {
    "colab": {
      "provenance": [],
      "authorship_tag": "ABX9TyP6+jxebJhlD4XU1pKPGf/q",
      "include_colab_link": true
    },
    "kernelspec": {
      "name": "python3",
      "display_name": "Python 3"
    },
    "language_info": {
      "name": "python"
    }
  },
  "cells": [
    {
      "cell_type": "markdown",
      "metadata": {
        "id": "view-in-github",
        "colab_type": "text"
      },
      "source": [
        "<a href=\"https://colab.research.google.com/github/Ape108/Quantum_Portfolio_Optimization/blob/main/qubo_optimization.ipynb\" target=\"_parent\"><img src=\"https://colab.research.google.com/assets/colab-badge.svg\" alt=\"Open In Colab\"/></a>"
      ]
    },
    {
      "cell_type": "markdown",
      "source": [
        "# QUBO - Quadratic Unconstrained Binary Optimization\n"
      ],
      "metadata": {
        "id": "VWZZmc-pZ-hL"
      }
    },
    {
      "cell_type": "markdown",
      "source": [
        "*Example Values*"
      ],
      "metadata": {
        "id": "_ksQhArKwi2r"
      }
    },
    {
      "cell_type": "code",
      "source": [
        "import numpy as np\n",
        "\n",
        "size = 5\n",
        "features = np.array([1,0,0,1,1]) # x^T vector\n",
        "weights = np.triu(np.array([ # Upper Triangular Matrix Q\n",
        "    [ 0.5, -1.0,  0.2, -0.8,  1.5],\n",
        "    [-1.0,  0.3, -0.5,  1.0, -0.2],\n",
        "    [ 0.2, -0.5, -0.1,  0.6, -1.1],\n",
        "    [-0.8,  1.0,  0.6,  0.9,  0.4],\n",
        "    [ 1.5, -0.2, -1.1,  0.4, -0.7]\n",
        "    ]))\n"
      ],
      "metadata": {
        "id": "hXrx-SW3wWw8"
      },
      "execution_count": 3,
      "outputs": []
    },
    {
      "cell_type": "markdown",
      "source": [
        "### Summation Form (General)<br>\n",
        "## $E(\\mathbf{x}) = \\sum_{i=1}^{n} Q_{ii}x_i + \\sum_{i=1}^{n-1}\\sum_{j=i+1}^{n} Q_{ij}x_i x_j$\n"
      ],
      "metadata": {
        "id": "YiXqQ5FvW9_s"
      }
    },
    {
      "cell_type": "code",
      "source": [
        "def get_cost_summation_form(weights, features, size):\n",
        "  # Summation Form\n",
        "  linear_sum = 0\n",
        "  for i in range(size):\n",
        "    Q_ii = weights[i][i]\n",
        "    x_i = features[i]\n",
        "    linear_sum += (Q_ii * x_i)\n",
        "\n",
        "  quadratic_sum = 0\n",
        "  for j in range(size):\n",
        "    for i in range(j):\n",
        "      Q_ij = weights[i][j]\n",
        "      x_i = features[i]\n",
        "      x_j = features[j]\n",
        "      quadratic_sum += (Q_ij * x_i * x_j)\n",
        "\n",
        "  energy_cost = linear_sum + quadratic_sum\n",
        "\n",
        "  print(\"linear_sum + quadratic_sum = energy_cost\")\n",
        "  print(f\"{linear_sum} + {quadratic_sum} = {energy_cost:.2f}\")\n",
        "\n",
        "get_cost_summation_form(weights, features, size)"
      ],
      "metadata": {
        "colab": {
          "base_uri": "https://localhost:8080/"
        },
        "id": "seCkcm4bTtPw",
        "outputId": "a642c640-25d5-456e-ea37-cef6f11aafe0"
      },
      "execution_count": 15,
      "outputs": [
        {
          "output_type": "stream",
          "name": "stdout",
          "text": [
            "linear_sum + quadratic_sum = energy_cost\n",
            "0.7 + 1.1 = 1.80\n"
          ]
        }
      ]
    },
    {
      "cell_type": "markdown",
      "source": [
        "### Matrix Form (General)<br>\n",
        "## $E(\\mathbf{x}) = \\mathbf{x}^\\top Q \\mathbf{x}$\n"
      ],
      "metadata": {
        "id": "BTkisXqrcqKd"
      }
    },
    {
      "cell_type": "code",
      "source": [
        "def get_cost_matrix_form(weights, features):\n",
        "  x_T = features\n",
        "  Q = weights\n",
        "  x = features.T\n",
        "\n",
        "  energy_cost = x_T @ Q @ x\n",
        "\n",
        "  print(\"x_T @ Q @ x = energy_cost\")\n",
        "  print(f\"{x_T} @ \\n{Q} @ \\n{x}^T \\n= {energy_cost:.2f}\")\n",
        "\n",
        "get_cost_matrix_form(weights, features)\n"
      ],
      "metadata": {
        "colab": {
          "base_uri": "https://localhost:8080/"
        },
        "id": "ZE0Xz_ElctBq",
        "outputId": "159a1b4e-e75f-41de-f6bc-efb8b49ff83c"
      },
      "execution_count": 22,
      "outputs": [
        {
          "output_type": "stream",
          "name": "stdout",
          "text": [
            "x_T @ Q @ x = energy_cost\n",
            "[1 0 0 1 1] @ \n",
            "[[ 0.5 -1.   0.2 -0.8  1.5]\n",
            " [ 0.   0.3 -0.5  1.  -0.2]\n",
            " [ 0.   0.  -0.1  0.6 -1.1]\n",
            " [ 0.   0.   0.   0.9  0.4]\n",
            " [ 0.   0.   0.   0.  -0.7]] @ \n",
            "[1 0 0 1 1]^T \n",
            "= 1.80\n"
          ]
        }
      ]
    },
    {
      "cell_type": "markdown",
      "source": [
        "# Portfolio Optimization Application"
      ],
      "metadata": {
        "id": "oejw7X6NA1ub"
      }
    },
    {
      "cell_type": "code",
      "source": [
        "import pandas as pd\n",
        "import yfinance as yf\n",
        "\n",
        "xlk_top_ten = ['NVDA', 'MSFT', 'AAPL', 'AVGO', 'ORCL', 'PLTR', 'AMD', 'CSCO', 'CRM', 'IBM']\n",
        "\n",
        "# Value of the stock at the end of the day\n",
        "adj_close_df = yf.download(xlk_top_ten, period='5y')['Close']\n",
        "\n",
        "# (Current day's price - Previous day's price) / Previous day's price\n",
        "daily_returns = adj_close_df.pct_change()\n",
        "\n",
        "# Drop NaN value for first day (no previous day)\n",
        "daily_returns = daily_returns.dropna()\n",
        "\n",
        "print(\"--- Daily Returns ---\")\n",
        "print(daily_returns.head())\n",
        "\n",
        "\n",
        "# There are about 252 trading days in a year\n",
        "# Calculate annualized expected returns (mu)\n",
        "mu = daily_returns.mean() * 252\n",
        "\n",
        "# Calculate annualized covariance matrix (Sigma)\n",
        "Sigma = daily_returns.cov() * 252\n"
      ],
      "metadata": {
        "id": "hGb8Na4zeCRs",
        "colab": {
          "base_uri": "https://localhost:8080/"
        },
        "outputId": "3e54723d-0d7e-4a5b-d539-275ea7c21036"
      },
      "execution_count": 32,
      "outputs": [
        {
          "output_type": "stream",
          "name": "stderr",
          "text": [
            "/tmp/ipython-input-835155751.py:7: FutureWarning: YF.download() has changed argument auto_adjust default to True\n",
            "  adj_close_df = yf.download(xlk_top_ten, period='5y')['Close']\n",
            "[*********************100%***********************]  10 of 10 completed"
          ]
        },
        {
          "output_type": "stream",
          "name": "stdout",
          "text": [
            "--- Daily Returns ---\n",
            "Ticker          AAPL       AMD      AVGO       CRM      CSCO       IBM  \\\n",
            "Date                                                                     \n",
            "2020-10-01  0.008462  0.035004  0.011748  0.008475 -0.005893 -0.004767   \n",
            "2020-10-02 -0.032280 -0.036059 -0.031931 -0.022095 -0.013660 -0.004294   \n",
            "2020-10-05  0.030791  0.053178  0.025979  0.014848  0.007839  0.011943   \n",
            "2020-10-06 -0.028669 -0.019385 -0.005791 -0.005526  0.000000 -0.000328   \n",
            "2020-10-07  0.016967  0.026160  0.007583  0.039338  0.021520  0.017217   \n",
            "\n",
            "Ticker          MSFT      NVDA      ORCL      PLTR  \n",
            "Date                                                \n",
            "2020-10-01  0.010127  0.006208 -0.000335 -0.004211  \n",
            "2020-10-02 -0.029511 -0.040564 -0.014243 -0.027484  \n",
            "2020-10-05  0.020321  0.044422  0.012409 -0.018478  \n",
            "2020-10-06 -0.021247  0.006890 -0.000839  0.096346  \n",
            "2020-10-07  0.019037  0.016562  0.022271  0.010101  \n"
          ]
        },
        {
          "output_type": "stream",
          "name": "stderr",
          "text": [
            "\n"
          ]
        }
      ]
    },
    {
      "cell_type": "markdown",
      "source": [
        "![Capture-2025-09-12-175557.png](data:image/png;base64,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)"
      ],
      "metadata": {
        "id": "Q5TeuMa1JBfc"
      }
    },
    {
      "cell_type": "code",
      "source": [
        "from collections import defaultdict\n",
        "\n",
        "# --- Parameters to set by the user ---\n",
        "# Number of assets to select in the portfolio\n",
        "K = 3\n",
        "# Risk aversion parameter (higher q = more focus on returns)\n",
        "q = 0.5\n",
        "# Penalty for violating the constraint (must be large enough)\n",
        "P = 1.0\n",
        "\n",
        "# Get the list of tickers\n",
        "tickers = xlk_top_ten\n",
        "num_assets = len(tickers)\n",
        "\n",
        "# --- Build the Q matrix ---\n",
        "Q = defaultdict(float)\n",
        "\n",
        "# 1. Add the risk term (covariance)\n",
        "for i in range(num_assets):\n",
        "  for j in range(num_assets):\n",
        "    Q[(i, j)] += Sigma.iloc[i, j]\n",
        "\n",
        "# 2. Add the return term (negated for minimization)\n",
        "for i in range(num_assets):\n",
        "  Q[(i,i)] -= q * mu.iloc[i]\n",
        "\n",
        "\n",
        "# 3. Add the constraint penalty\n",
        "# The penalty (sum(xi) - K)^2 expands to:\n",
        "# sum(xi^2) - 2K*sum(xi) + K^2\n",
        "# Since xi is binary, xi^2 = xi. So it becomes:\n",
        "# (1 - 2K)*sum(xi) + 2*sum_{i<j}(xi*xj) + K^2\n",
        "# (We can ignore the constant K^2)\n",
        "for i in range(num_assets):\n",
        "  Q[(i, i)] += P * (1 - 2 * K)\n",
        "  for j in range(i + 1, num_assets):\n",
        "    Q[(i, j)] += P * 2\n",
        "\n",
        "print(\"--- Sample of Q matrix elements ---\")\n",
        "for i, j in list(Q.keys())[:5]:\n",
        "    print(f\"Q[({i},{j})]: {Q[(i,j)]:.4f}\")\n"
      ],
      "metadata": {
        "colab": {
          "base_uri": "https://localhost:8080/"
        },
        "id": "4DPfNM09DdMW",
        "outputId": "fd3347f1-a459-41a7-d094-fd060babbbc2"
      },
      "execution_count": 57,
      "outputs": [
        {
          "output_type": "stream",
          "name": "stdout",
          "text": [
            "--- Sample of Q matrix elements ---\n",
            "Q[(0,0)]: -5.0123\n",
            "Q[(0,1)]: 2.0762\n",
            "Q[(0,2)]: 2.0569\n",
            "Q[(0,3)]: 2.0485\n",
            "Q[(0,4)]: 2.0303\n"
          ]
        }
      ]
    },
    {
      "cell_type": "markdown",
      "source": [
        "Now that we have converted the data into a QUBO problem, we need to evaluate it. That would be where techniques like QAOA and Quantum Annealing come in. Below is an algorithm to solve it by brute force, but this is only possible because we have 10 assets, and $C(10, 5) = 252$."
      ],
      "metadata": {
        "id": "rPLbYq_mRGPd"
      }
    },
    {
      "cell_type": "code",
      "source": [
        "# Brute Force Evaluation (Generated by Gemini)\n",
        "\n",
        "from itertools import combinations\n",
        "\n",
        "# --- Brute-Force Search for the Optimal Portfolio ---\n",
        "\n",
        "# You can use the K and q parameters you defined previously\n",
        "num_assets_to_select = K\n",
        "risk_aversion = q\n",
        "\n",
        "# Initialize variables to store the best result\n",
        "best_combo = None\n",
        "best_score = float('inf') # Start with a very high score to minimize\n",
        "\n",
        "# Get the list of asset tickers\n",
        "tickers = mu.index # Assumes tickers are the index of your mu Series\n",
        "\n",
        "print(f\"Searching all {len(list(combinations(tickers, num_assets_to_select)))} combinations of {num_assets_to_select} assets...\")\n",
        "\n",
        "# Generate and loop through every possible combination of K tickers\n",
        "for combo in combinations(tickers, num_assets_to_select):\n",
        "\n",
        "    # Convert combo tuple to a list for slicing\n",
        "    combo_list = list(combo)\n",
        "\n",
        "    # Slice the mu and Sigma matrices for the current combination\n",
        "    combo_mu = mu[combo_list]\n",
        "    combo_sigma = Sigma.loc[combo_list, combo_list]\n",
        "\n",
        "    # Calculate the score for this combination (objective: minimize Risk - q*Return)\n",
        "    # The portfolio variance is the sum of all elements in the sub-covariance matrix\n",
        "    portfolio_variance = combo_sigma.sum().sum()\n",
        "    # The portfolio return is the sum of the returns of the selected assets\n",
        "    portfolio_return = combo_mu.sum()\n",
        "\n",
        "    score = portfolio_variance - risk_aversion * portfolio_return\n",
        "\n",
        "    # If this combination's score is the best we've seen, save it\n",
        "    if score < best_score:\n",
        "        best_score = score\n",
        "        best_combo = combo\n",
        "\n",
        "print(\"\\n--- Optimal Portfolio Found via Brute-Force ---\")\n",
        "print(f\"Selected Assets: {best_combo}\")\n",
        "print(f\"Objective Score: {best_score:.4f}\")"
      ],
      "metadata": {
        "colab": {
          "base_uri": "https://localhost:8080/"
        },
        "id": "7fSDDVmhBC2M",
        "outputId": "a0ae1dea-adcb-4c45-cc04-55ba2c0b87a1"
      },
      "execution_count": 58,
      "outputs": [
        {
          "output_type": "stream",
          "name": "stdout",
          "text": [
            "Searching all 120 combinations of 3 assets...\n",
            "\n",
            "--- Optimal Portfolio Found via Brute-Force ---\n",
            "Selected Assets: ('AVGO', 'CSCO', 'IBM')\n",
            "Objective Score: -0.0269\n"
          ]
        }
      ]
    },
    {
      "cell_type": "code",
      "source": [],
      "metadata": {
        "id": "rFJJNACSRzxQ"
      },
      "execution_count": 47,
      "outputs": []
    }
  ]
}